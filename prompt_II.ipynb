{
 "cells": [
  {
   "cell_type": "markdown",
   "metadata": {},
   "source": [
    "# What drives the price of a car?\n",
    "\n",
    "![](images/kurt.jpeg)"
   ]
  },
  {
   "cell_type": "markdown",
   "metadata": {},
   "source": [
    "**OVERVIEW**\n",
    "\n",
    "In this application, you will explore a dataset from Kaggle. The original dataset contained information on 3 million used cars. The provided dataset contains information on 426K cars to ensure speed of processing.  Your goal is to understand what factors make a car more or less expensive.  As a result of your analysis, you should provide clear recommendations to your client -- a used car dealership -- as to what consumers value in a used car."
   ]
  },
  {
   "cell_type": "markdown",
   "metadata": {},
   "source": [
    "### CRISP-DM Framework\n",
    "\n",
    "<center>\n",
    "    <img src = images/crisp.png width = 50%/>\n",
    "</center>\n",
    "\n",
    "\n",
    "To frame the task, throughout our practical applications, we will refer back to a standard process in industry for data projects called CRISP-DM.  This process provides a framework for working through a data problem.  Your first step in this application will be to read through a brief overview of CRISP-DM [here](https://mo-pcco.s3.us-east-1.amazonaws.com/BH-PCMLAI/module_11/readings_starter.zip).  After reading the overview, answer the questions below."
   ]
  },
  {
   "cell_type": "markdown",
   "metadata": {},
   "source": [
    "### Business Understanding\n",
    "\n",
    "From a business perspective, we are tasked with identifying key drivers for used car prices.  In the CRISP-DM overview, we are asked to convert this business framing to a data problem definition.  Using a few sentences, reframe the task as a data task with the appropriate technical vocabulary. "
   ]
  },
  {
   "cell_type": "markdown",
   "metadata": {},
   "source": [
    "> The data task is to identify the correlation between parameters and vehicle price, or parameter weights of one or more (more) regression models that will similarly inform which parameters contribute most positively and negatively to car price.\n",
    "\n",
    "> On data reduncancy: there are several columns that carry repeated information, such as {'state' and 'region'}, {'manufacturer' and 'model'}. It could be argued that all the information contained in 'state' is represented by 'region' and so 'state' may be dropped. Likewise, 'make' could be dropped. Dropping the redundant columns would reduce the dimensionality of the data, but would discard some information that may be directly relevant to the client. It's possible the client cares about a trend by state or manufacturer, and those trends can be read directly from the model if the redundant columns are retained."
   ]
  },
  {
   "cell_type": "code",
   "execution_count": null,
   "metadata": {},
   "outputs": [],
   "source": []
  },
  {
   "cell_type": "code",
   "execution_count": null,
   "metadata": {},
   "outputs": [],
   "source": []
  },
  {
   "cell_type": "markdown",
   "metadata": {},
   "source": [
    "### Utilities"
   ]
  },
  {
   "cell_type": "code",
   "execution_count": 1,
   "metadata": {},
   "outputs": [],
   "source": [
    "import pandas as pd\n",
    "import numpy as np\n",
    "import matplotlib.pyplot as plt\n",
    "import seaborn as sns\n",
    "import warnings\n",
    "\n",
    "from sklearn.linear_model import LinearRegression, Ridge\n",
    "from sklearn.pipeline import Pipeline\n",
    "from sklearn.preprocessing import PolynomialFeatures, OneHotEncoder, OrdinalEncoder, StandardScaler, TargetEncoder\n",
    "from sklearn.metrics import root_mean_squared_error\n",
    "from sklearn.feature_selection import SequentialFeatureSelector\n",
    "from sklearn.model_selection import train_test_split, GridSearchCV\n",
    "from sklearn.compose import make_column_transformer, make_column_selector\n",
    "\n",
    "\n",
    "warnings.filterwarnings('ignore')"
   ]
  },
  {
   "cell_type": "code",
   "execution_count": 2,
   "metadata": {},
   "outputs": [],
   "source": [
    "# Utility to record model results\n",
    "model_rmse_df = pd.DataFrame(columns = ['model_name', 'data_id', 'train_rmse', 'test_rmse'])\n",
    "\n",
    "def record_results(model_name, data_id, train_rmse, test_rmse):\n",
    "    model_rmse_df.loc[len(model_rmse_df)] = {\n",
    "        'model_name': model_name,\n",
    "        'data_id': data_id,\n",
    "        'train_rmse': int(train_rmse),\n",
    "        'test_rmse': int(test_rmse)\n",
    "}"
   ]
  },
  {
   "cell_type": "code",
   "execution_count": 3,
   "metadata": {},
   "outputs": [],
   "source": [
    "def model_fit_evaluate(model, X_train, X_test, y_train, y_test, report=True):\n",
    "    model.fit(X_train, y_train)\n",
    "    train_rmse = root_mean_squared_error(y_train, model.predict(X_train))\n",
    "    test_rmse = root_mean_squared_error(y_test, model.predict(X_test))\n",
    "\n",
    "    if report:\n",
    "        print(f'  MSE (train/test): {train_rmse:.3f}, {test_rmse :.3f}')\n",
    "    return (train_rmse, test_rmse)\n"
   ]
  },
  {
   "cell_type": "code",
   "execution_count": 4,
   "metadata": {},
   "outputs": [],
   "source": [
    "# Utilities to save and load objects\n",
    "#   Models that took hours to train, I'm looking at you!\n",
    "import pickle\n",
    "\n",
    "def save_object(obj, path):\n",
    "    with open(path, 'wb') as file:\n",
    "        pickle.dump(obj, file)\n",
    "\n",
    "def load_object(path):\n",
    "    with open('my_object.pkl', 'rb') as file:\n",
    "        obj = pickle.load(file)\n",
    "    return obj"
   ]
  },
  {
   "cell_type": "markdown",
   "metadata": {},
   "source": [
    "### Data Understanding\n",
    "\n",
    "After considering the business understanding, we want to get familiar with our data.  Write down some steps that you would take to get to know the dataset and identify any quality issues within.  Take time to get to know the dataset and explore what information it contains and how this could be used to inform your business understanding."
   ]
  },
  {
   "cell_type": "markdown",
   "metadata": {},
   "source": [
    "* Import the data\n",
    "* Explore the data\n",
    "* Resolve missing data (fill with 'NA', most common value, or drop rows)"
   ]
  },
  {
   "cell_type": "code",
   "execution_count": 5,
   "metadata": {},
   "outputs": [
    {
     "data": {
      "application/vnd.microsoft.datawrangler.viewer.v0+json": {
       "columns": [
        {
         "name": "index",
         "rawType": "object",
         "type": "string"
        },
        {
         "name": "id",
         "rawType": "float64",
         "type": "float"
        },
        {
         "name": "price",
         "rawType": "float64",
         "type": "float"
        },
        {
         "name": "year",
         "rawType": "float64",
         "type": "float"
        },
        {
         "name": "odometer",
         "rawType": "float64",
         "type": "float"
        }
       ],
       "ref": "a9c0f12e-d670-4454-9fa7-e52e6fce81ff",
       "rows": [
        [
         "count",
         "426880.0",
         "426880.0",
         "425675.0",
         "422480.0"
        ],
        [
         "mean",
         "7311486634.224333",
         "75199.0331873126",
         "2011.23519116697",
         "98043.33144290854"
        ],
        [
         "std",
         "4473170.412559267",
         "12182282.173603749",
         "9.452119581502558",
         "213881.50079799347"
        ],
        [
         "min",
         "7207408119.0",
         "0.0",
         "1900.0",
         "0.0"
        ],
        [
         "25%",
         "7308143339.25",
         "5900.0",
         "2008.0",
         "37704.0"
        ],
        [
         "50%",
         "7312620821.0",
         "13950.0",
         "2013.0",
         "85548.0"
        ],
        [
         "75%",
         "7315253543.5",
         "26485.75",
         "2017.0",
         "133542.5"
        ],
        [
         "max",
         "7317101084.0",
         "3736928711.0",
         "2022.0",
         "10000000.0"
        ]
       ],
       "shape": {
        "columns": 4,
        "rows": 8
       }
      },
      "text/html": [
       "<div>\n",
       "<style scoped>\n",
       "    .dataframe tbody tr th:only-of-type {\n",
       "        vertical-align: middle;\n",
       "    }\n",
       "\n",
       "    .dataframe tbody tr th {\n",
       "        vertical-align: top;\n",
       "    }\n",
       "\n",
       "    .dataframe thead th {\n",
       "        text-align: right;\n",
       "    }\n",
       "</style>\n",
       "<table border=\"1\" class=\"dataframe\">\n",
       "  <thead>\n",
       "    <tr style=\"text-align: right;\">\n",
       "      <th></th>\n",
       "      <th>id</th>\n",
       "      <th>price</th>\n",
       "      <th>year</th>\n",
       "      <th>odometer</th>\n",
       "    </tr>\n",
       "  </thead>\n",
       "  <tbody>\n",
       "    <tr>\n",
       "      <th>count</th>\n",
       "      <td>4.268800e+05</td>\n",
       "      <td>4.268800e+05</td>\n",
       "      <td>425675.000000</td>\n",
       "      <td>4.224800e+05</td>\n",
       "    </tr>\n",
       "    <tr>\n",
       "      <th>mean</th>\n",
       "      <td>7.311487e+09</td>\n",
       "      <td>7.519903e+04</td>\n",
       "      <td>2011.235191</td>\n",
       "      <td>9.804333e+04</td>\n",
       "    </tr>\n",
       "    <tr>\n",
       "      <th>std</th>\n",
       "      <td>4.473170e+06</td>\n",
       "      <td>1.218228e+07</td>\n",
       "      <td>9.452120</td>\n",
       "      <td>2.138815e+05</td>\n",
       "    </tr>\n",
       "    <tr>\n",
       "      <th>min</th>\n",
       "      <td>7.207408e+09</td>\n",
       "      <td>0.000000e+00</td>\n",
       "      <td>1900.000000</td>\n",
       "      <td>0.000000e+00</td>\n",
       "    </tr>\n",
       "    <tr>\n",
       "      <th>25%</th>\n",
       "      <td>7.308143e+09</td>\n",
       "      <td>5.900000e+03</td>\n",
       "      <td>2008.000000</td>\n",
       "      <td>3.770400e+04</td>\n",
       "    </tr>\n",
       "    <tr>\n",
       "      <th>50%</th>\n",
       "      <td>7.312621e+09</td>\n",
       "      <td>1.395000e+04</td>\n",
       "      <td>2013.000000</td>\n",
       "      <td>8.554800e+04</td>\n",
       "    </tr>\n",
       "    <tr>\n",
       "      <th>75%</th>\n",
       "      <td>7.315254e+09</td>\n",
       "      <td>2.648575e+04</td>\n",
       "      <td>2017.000000</td>\n",
       "      <td>1.335425e+05</td>\n",
       "    </tr>\n",
       "    <tr>\n",
       "      <th>max</th>\n",
       "      <td>7.317101e+09</td>\n",
       "      <td>3.736929e+09</td>\n",
       "      <td>2022.000000</td>\n",
       "      <td>1.000000e+07</td>\n",
       "    </tr>\n",
       "  </tbody>\n",
       "</table>\n",
       "</div>"
      ],
      "text/plain": [
       "                 id         price           year      odometer\n",
       "count  4.268800e+05  4.268800e+05  425675.000000  4.224800e+05\n",
       "mean   7.311487e+09  7.519903e+04    2011.235191  9.804333e+04\n",
       "std    4.473170e+06  1.218228e+07       9.452120  2.138815e+05\n",
       "min    7.207408e+09  0.000000e+00    1900.000000  0.000000e+00\n",
       "25%    7.308143e+09  5.900000e+03    2008.000000  3.770400e+04\n",
       "50%    7.312621e+09  1.395000e+04    2013.000000  8.554800e+04\n",
       "75%    7.315254e+09  2.648575e+04    2017.000000  1.335425e+05\n",
       "max    7.317101e+09  3.736929e+09    2022.000000  1.000000e+07"
      ]
     },
     "execution_count": 5,
     "metadata": {},
     "output_type": "execute_result"
    }
   ],
   "source": [
    "df = pd.read_csv('data/vehicles.csv')\n",
    "df.describe()"
   ]
  },
  {
   "cell_type": "code",
   "execution_count": 6,
   "metadata": {},
   "outputs": [],
   "source": [
    "# df.dropna().shape   # 34_868 down from 426_880.\n",
    "# That's unacceptable loss. Need to look closer..."
   ]
  },
  {
   "cell_type": "code",
   "execution_count": 7,
   "metadata": {},
   "outputs": [
    {
     "name": "stdout",
     "output_type": "stream",
     "text": [
      "Cleaning discarded 0.087 of the data\n"
     ]
    }
   ],
   "source": [
    "# Inspecting the data with DataWrangler shows...\n",
    "# 1. Several columns are missing very little data. Rows with nulls in these columns can be dropped with minimal loss.\n",
    "#   - 'year' (<1%)\n",
    "#   - 'manufacturer' (4%)\n",
    "#   - 'model' (1%)\n",
    "#   - 'fuel' (1%)\n",
    "#   - 'odometer' (1%)\n",
    "#   - 'title_status' (2%)\n",
    "#   - 'transmission' (1%)\n",
    "df_clean = df.dropna(subset=['year', 'manufacturer', 'model', 'fuel', 'odometer', 'title_status', 'transmission'])\n",
    "print(f'Cleaning discarded {1 - df_clean.shape[0] / df.shape[0] :.3f} of the data')"
   ]
  },
  {
   "cell_type": "code",
   "execution_count": 8,
   "metadata": {},
   "outputs": [],
   "source": [
    "# 2. VIN and ID column shouldn't contribute to vehicle price and can be dropped.\n",
    "#    'region' contributes too many columns for too little benefit.\n",
    "df_clean.drop(columns=['VIN', 'id', 'region'], inplace=True)"
   ]
  },
  {
   "cell_type": "code",
   "execution_count": 9,
   "metadata": {},
   "outputs": [],
   "source": [
    "# 3. Several rows are missing a substantial amount of data and can be labeled 'NA'\n",
    "#   - 'drive', 'size', 'type', 'paint_color'\n",
    "high_missing_columns = ['drive', 'size', 'type', 'paint_color', 'cylinders']\n",
    "df_clean[high_missing_columns] = df_clean[high_missing_columns].fillna('NA')"
   ]
  },
  {
   "cell_type": "code",
   "execution_count": 10,
   "metadata": {},
   "outputs": [],
   "source": [
    "# 4. Missing values in 'condition' can be replaced with the low-middling value 'good'.\n",
    "#   - If it was in a more desirable condition, that condition likely would have been claimed.\n",
    "#   - Note: This also happens to be the most common value, but that wasn't the reason it was chosen.\n",
    "df_clean.condition.unique()\n",
    "df_clean['condition'] = df_clean['condition'].fillna('good')\n"
   ]
  },
  {
   "cell_type": "code",
   "execution_count": 11,
   "metadata": {},
   "outputs": [
    {
     "data": {
      "text/plain": [
       "238376.0"
      ]
     },
     "execution_count": 11,
     "metadata": {},
     "output_type": "execute_result"
    }
   ],
   "source": [
    "df_clean.odometer.quantile(0.98)"
   ]
  },
  {
   "cell_type": "code",
   "execution_count": 12,
   "metadata": {},
   "outputs": [
    {
     "name": "stdout",
     "output_type": "stream",
     "text": [
      "Odometer outliers discarded: 7587. Retained 382017\n"
     ]
    },
    {
     "data": {
      "image/png": "[encoded data removed]",
      "text/plain": [
       "<Figure size 900x300 with 3 Axes>"
      ]
     },
     "metadata": {},
     "output_type": "display_data"
    }
   ],
   "source": [
    "# 5. Odometer has some very high values, in millions of miles. Let's throw out some outliers.\n",
    "thresholds = [0.999, 0.99, 0.98]\n",
    "fig, ax = plt.subplots(1, 3, figsize=(9, 3))\n",
    "fig.suptitle('Odometer outliers')\n",
    "fig.tight_layout()\n",
    "\n",
    "for i, p in enumerate(thresholds):\n",
    "    df_clean.odometer[df_clean.odometer < df_clean.odometer.quantile(p)].plot(kind='hist', ax=ax[i])\n",
    "    ax[i].set_title(f'Up to {p}')\n",
    "\n",
    "before = df_clean.shape[0]\n",
    "df_clean = df_clean[df_clean['odometer'] < 240000]  # ~98th quantile\n",
    "after = df_clean.shape[0]\n",
    "print(f'Odometer outliers discarded: {before - after}. Retained {after}')"
   ]
  },
  {
   "cell_type": "code",
   "execution_count": 13,
   "metadata": {},
   "outputs": [
    {
     "data": {
      "text/plain": [
       "Text(0.5, 1.0, 'Price vs Odometer')"
      ]
     },
     "execution_count": 13,
     "metadata": {},
     "output_type": "execute_result"
    },
    {
     "data": {
      "image/png": "[encoded data removed]",
      "text/plain": [
       "<Figure size 640x480 with 1 Axes>"
      ]
     },
     "metadata": {},
     "output_type": "display_data"
    }
   ],
   "source": [
    "fig = sns.scatterplot(df_clean.sample(1000), x='odometer', y='price')\n",
    "fig.set_ylim(0, 100000)\n",
    "fig.set_title('Price vs Odometer')"
   ]
  },
  {
   "cell_type": "code",
   "execution_count": 14,
   "metadata": {},
   "outputs": [
    {
     "data": {
      "text/plain": [
       "Text(0.5, 1.0, 'Price vs Year - pre-filter')"
      ]
     },
     "execution_count": 14,
     "metadata": {},
     "output_type": "execute_result"
    },
    {
     "data": {
      "image/png": "[encoded data removed]",
      "text/plain": [
       "<Figure size 640x480 with 1 Axes>"
      ]
     },
     "metadata": {},
     "output_type": "display_data"
    }
   ],
   "source": [
    "fig = sns.scatterplot(df_clean.sample(1000), x='year', y='price')\n",
    "fig.set_ylim(0, 100000)\n",
    "fig.set_title('Price vs Year - pre-filter')"
   ]
  },
  {
   "cell_type": "code",
   "execution_count": 15,
   "metadata": {},
   "outputs": [
    {
     "data": {
      "text/plain": [
       "Text(0.5, 1.0, 'Price vs Age - after age filter')"
      ]
     },
     "execution_count": 15,
     "metadata": {},
     "output_type": "execute_result"
    },
    {
     "data": {
      "image/png": "[encoded data removed]",
      "text/plain": [
       "<Figure size 640x480 with 1 Axes>"
      ]
     },
     "metadata": {},
     "output_type": "display_data"
    }
   ],
   "source": [
    "# Observation: prices get weird at years older than about 1990.\n",
    "\n",
    "# 6. Remove old cars, as they complicate the trend, and create an age column\n",
    "df_clean = df_clean[df_clean.year >= 1990]\n",
    "df_clean['age'] = df_clean.year.max() - df_clean.year\n",
    "\n",
    "fig = sns.scatterplot(df_clean.sample(1000), x='age', y='price')\n",
    "fig.set_ylim(0, 100000)\n",
    "fig.set_title('Price vs Age - after age filter')"
   ]
  },
  {
   "cell_type": "code",
   "execution_count": 16,
   "metadata": {},
   "outputs": [],
   "source": [
    "# 7. Prices: Remove outliers and log transform.\n",
    "df_clean = df_clean[(df_clean.price > 500) & (df_clean.price < 50000)]\n",
    "df_clean['log_price'] = np.log(df_clean.price)"
   ]
  },
  {
   "cell_type": "code",
   "execution_count": 17,
   "metadata": {},
   "outputs": [
    {
     "data": {
      "application/vnd.microsoft.datawrangler.viewer.v0+json": {
       "columns": [
        {
         "name": "index",
         "rawType": "object",
         "type": "string"
        },
        {
         "name": "log_price",
         "rawType": "float64",
         "type": "float"
        }
       ],
       "ref": "e7a56107-c6c6-4e11-a6f5-8bc920e65282",
       "rows": [
        [
         "count",
         "326740.0"
        ],
        [
         "mean",
         "9.529040936779044"
        ],
        [
         "std",
         "0.8326778243106897"
        ],
        [
         "min",
         "6.2166061010848646"
        ],
        [
         "25%",
         "8.98594603876032"
        ],
        [
         "50%",
         "9.679531170964893"
        ],
        [
         "75%",
         "10.20322170601205"
        ],
        [
         "max",
         "10.81975828421028"
        ]
       ],
       "shape": {
        "columns": 1,
        "rows": 8
       }
      },
      "text/plain": [
       "count    326740.000000\n",
       "mean          9.529041\n",
       "std           0.832678\n",
       "min           6.216606\n",
       "25%           8.985946\n",
       "50%           9.679531\n",
       "75%          10.203222\n",
       "max          10.819758\n",
       "Name: log_price, dtype: float64"
      ]
     },
     "execution_count": 17,
     "metadata": {},
     "output_type": "execute_result"
    }
   ],
   "source": [
    "df_clean.log_price.describe()"
   ]
  },
  {
   "cell_type": "code",
   "execution_count": 18,
   "metadata": {},
   "outputs": [
    {
     "data": {
      "text/plain": [
       "(0.0, 12.0)"
      ]
     },
     "execution_count": 18,
     "metadata": {},
     "output_type": "execute_result"
    },
    {
     "data": {
      "image/png": "[encoded data removed]",
      "text/plain": [
       "<Figure size 800x400 with 2 Axes>"
      ]
     },
     "metadata": {},
     "output_type": "display_data"
    }
   ],
   "source": [
    "fig, ax = plt.subplots(1, 2, figsize=(8, 4))\n",
    "fig.suptitle('Log Price vs Age and Odometer - after filter')\n",
    "fig.tight_layout()\n",
    "\n",
    "fig = sns.scatterplot(df_clean.sample(1000), x='age', y='log_price', ax=ax[0])\n",
    "fig.set_ylim(0, 12)\n",
    "\n",
    "fig = sns.scatterplot(df_clean.sample(1000), x='odometer', y='log_price', ax=ax[1])\n",
    "fig.set_ylim(0, 12)\n"
   ]
  },
  {
   "cell_type": "code",
   "execution_count": 19,
   "metadata": {},
   "outputs": [
    {
     "data": {
      "text/plain": [
       "<Axes: xlabel='condition', ylabel='price'>"
      ]
     },
     "execution_count": 19,
     "metadata": {},
     "output_type": "execute_result"
    },
    {
     "data": {
      "image/png": "[encoded data removed]",
      "text/plain": [
       "<Figure size 640x480 with 1 Axes>"
      ]
     },
     "metadata": {},
     "output_type": "display_data"
    }
   ],
   "source": [
    "# Inspect condition vs price\n",
    "sns.scatterplot(df_clean.sample(1000), x='condition', y='price')\n",
    "# Observation: 'condition' has a turbulent relationship with price. It may carry little information for the model."
   ]
  },
  {
   "cell_type": "code",
   "execution_count": 20,
   "metadata": {},
   "outputs": [],
   "source": [
    "# 8. Cylinders to numerical\n",
    "#    40% missing, but after much investigation and failure, it has been determined that 'model'\n",
    "#     won't be retained, so the loss should cost little.\n",
    "df_clean = df_clean[~df_clean['cylinders'].str.contains('other') & ~df_clean['cylinders'].isnull()]\n",
    "df_clean['cylinders'] = pd.to_numeric(df_clean['cylinders'].str.replace(' cylinders', ''), errors='coerce')\n",
    "df_clean = df_clean.dropna(subset=['cylinders'])\n"
   ]
  },
  {
   "cell_type": "code",
   "execution_count": 21,
   "metadata": {},
   "outputs": [],
   "source": [
    "# 9. Drop the 8% not burning gas\n",
    "df_clean = df_clean[df_clean['fuel'] == 'gas']"
   ]
  },
  {
   "cell_type": "code",
   "execution_count": null,
   "metadata": {},
   "outputs": [
    {
     "name": "stdout",
     "output_type": "stream",
     "text": [
      "Index(['ford', 'chevrolet', 'toyota', 'honda', 'nissan', 'jeep', 'gmc',\n",
      "       'dodge', 'ram', 'bmw', 'subaru', 'mercedes-benz', 'hyundai', 'lexus',\n",
      "       'volkswagen', 'kia', 'chrysler', 'audi', 'acura', 'cadillac',\n",
      "       'infiniti', 'buick', 'mazda'],\n",
      "      dtype='object', name='manufacturer')\n"
     ]
    }
   ],
   "source": [
    "# 10. Simplify 'manufacturer'. Either group the least popular into one category...\n",
    "#     ... or drop them if not too many.\n",
    "print(df_clean.manufacturer.value_counts()[:23].index)\n",
    "#['ford', 'chevrolet', 'toyota', 'honda', 'nissan', 'jeep', 'gmc',\n",
    "# 'dodge', 'ram', 'bmw', 'subaru', 'mercedes-benz', 'hyundai', 'lexus',\n",
    "# 'volkswagen', 'kia', 'chrysler', 'audi', 'acura', 'cadillac',\n",
    "# 'infiniti', 'buick', 'mazda']\n",
    "\n",
    "df_clean.manufacturer.value_counts()[:23].sum()\n",
    "# This would keep 166629 out of 176184, or 94.3% of the data but remove almost half of the noise. Win.\n",
    "\n",
    "top23 = df_clean.manufacturer.value_counts()[:23].index\n",
    "df_clean = df_clean[df_clean.manufacturer.isin(top23)]"
   ]
  },
  {
   "cell_type": "markdown",
   "metadata": {},
   "source": [
    "### Data Preparation\n",
    "\n",
    "After our initial exploration and fine-tuning of the business understanding, it is time to construct our final dataset prior to modeling.  Here, we want to make sure to handle any integrity issues and cleaning, the engineering of new features, any transformations that we believe should happen (scaling, logarithms, normalization, etc.), and general preparation for modeling with `sklearn`. "
   ]
  },
  {
   "cell_type": "markdown",
   "metadata": {},
   "source": [
    "> Here follows a painful exploration of column transformers and their practical limitations."
   ]
  },
  {
   "cell_type": "code",
   "execution_count": 35,
   "metadata": {},
   "outputs": [
    {
     "data": {
      "text/plain": [
       "array(['good', 'excellent', 'fair', 'like new', 'new', 'salvage'],\n",
       "      dtype=object)"
      ]
     },
     "execution_count": 35,
     "metadata": {},
     "output_type": "execute_result"
    }
   ],
   "source": [
    "df_clean['condition'].unique()"
   ]
  },
  {
   "cell_type": "markdown",
   "metadata": {},
   "source": [
    "``` Python\n",
    "\n",
    "# Utility for applying a transform on a DataFrame and getting a DataFrame out\n",
    "def col_transform(df, x4m) -> pd.DataFrame:\n",
    "    data_np = x4m.fit_transform(df)\n",
    "    return pd.DataFrame(data_np, columns=x4m.get_feature_names_out())\n",
    "\n",
    "# Data Set 1\n",
    "\n",
    "# Ordinal encode 'condition'\n",
    "# Normalize numeric and take their polynomial features\n",
    "# One-Hot encode the rest\n",
    "col_transformer = make_column_transformer(\n",
    "    (OrdinalEncoder(categories = [['salvage', 'fair', 'good', 'excellent', 'like new', 'new']]), ['condition']),\n",
    "    (StandardScaler(), make_column_selector(dtype_include=np.number)),\n",
    "    (PolynomialFeatures(degree = 2), make_column_selector(dtype_include=np.number)),\n",
    "    (OneHotEncoder(drop = 'if_binary', sparse_output=False), make_column_selector(dtype_include=object)),\n",
    "    remainder='passthrough'\n",
    ")"
   ]
  },
  {
   "cell_type": "markdown",
   "metadata": {},
   "source": [
    "``` Python\n",
    "# Experiment: Does a column selector for np.number pick up a column generated by previous OrdinalEncoder step?\n",
    "col_transformer = make_column_transformer(\n",
    "    (OrdinalEncoder(categories = [['salvage', 'fair', 'good', 'excellent', 'like new', 'new']]), ['condition']),\n",
    "    (StandardScaler(), make_column_selector(dtype_include=np.number)),\n",
    "    (PolynomialFeatures(degree = 2), make_column_selector(dtype_include=np.number)),\n",
    "    (OneHotEncoder(drop = 'if_binary', sparse_output=False), make_column_selector(dtype_include=object)),\n",
    "    remainder='passthrough'\n",
    ")\n",
    "test = col_transform(df_clean[['condition', 'odometer', 'year']], col_transformer)\n",
    "# Result: No! Column transformation is done \"in parallel\". Transformation in series must use a Pipeline?\n"
   ]
  },
  {
   "cell_type": "markdown",
   "metadata": {},
   "source": [
    "``` Python\n",
    "# Experiment: How many features are produced by the cleaned data without any further pruning (389604, 16),\n",
    "# when fed through the transformer?\n",
    "test_df = col_transform(df_clean.sample(300000), col_transformer)\n",
    "\n",
    "# Result:\n",
    "    # 1000 samples:  10xx features\n",
    "    # 5000 samples:  26xx features\n",
    "    # 10000 samples: 38xx features\n",
    "    # 100k samples: 12xxx features and 13 seconds to transform. That's very big.\n",
    "    # 300k samples: 20xxx features and 1m 21s to transform.\n",
    "# I need to consider throwing out redundant data, even if it includes golden nugggets, to make the data more manageable.\n",
    "# Result after discarding"
   ]
  },
  {
   "cell_type": "markdown",
   "metadata": {},
   "source": [
    "``` Python\n",
    "# Data Set 2: Minimal features on large data set\n",
    "# year, manufacturer, oe(condition), odometer, transmission, type, state\n",
    "\n",
    "## First attempt to transform the data\n",
    "\n",
    "transform_condition_ord = make_column_transformer(\n",
    "    (OrdinalEncoder(categories = [['salvage', 'fair', 'good', 'excellent', 'like new', 'new']]), ['condition']),\n",
    "    remainder='passthrough'\n",
    ")\n",
    "\n",
    "transform_scaler = make_column_transformer(\n",
    "    (StandardScaler(), make_column_selector(dtype_include=np.number)),\n",
    "    remainder='passthrough'\n",
    ")\n",
    "\n",
    "transform_poly = make_column_transformer(\n",
    "    (PolynomialFeatures(degree = 2), make_column_selector(dtype_include=np.number)),\n",
    "    remainder='passthrough'\n",
    ")\n",
    "\n",
    "transform_ohe = make_column_transformer(\n",
    "    (OneHotEncoder(drop='if_binary', sparse_output=False), make_column_selector(dtype_include=object)),\n",
    "    remainder='passthrough'\n",
    ")\n",
    "\n",
    "pipe2 = Pipeline([\n",
    "    ('oe', transform_condition_ord),\n",
    "    ('scaler', transform_scaler),\n",
    "    ('poly', transform_poly),\n",
    "    ('ohe', transform_ohe)#,\n",
    "    #('model', LinearRegression())\n",
    "])\n",
    "\n",
    "Data2 = df_clean[['year', 'manufacturer', 'condition', 'odometer', 'transmission', 'type', 'state']]\n",
    "#Data2_x = pipe2.fit_transform(Data2)\n",
    "    # ValueError: make_column_selector can only be applied to pandas dataframes\n",
    "    # It appears the output of each pipeline step is a np.ndarray instead of a dataframe.\n",
    "\n",
    "## First transform attempt fails!\n",
    "# Column transformers can't be serialized because their output is an ndarray, which has uniform type.\n",
    "# The make_column_selector on the subsequent step requires a DataFrame, not an ndarray.\n",
    "# Instead of the series approach, let's try a series-parallel approach by wrapping the transformers in pipelines..."
   ]
  },
  {
   "cell_type": "markdown",
   "metadata": {},
   "source": [
    "``` Python\n",
    "## Second attempt to transform the data series-parallel\n",
    "ord_scale_pipe = Pipeline([\n",
    "    ('oe', OrdinalEncoder(categories = [['salvage', 'fair', 'good', 'excellent', 'like new', 'new']])),\n",
    "    ('scale', StandardScaler())\n",
    "])\n",
    "\n",
    "col_transformer2 = make_column_transformer(\n",
    "    (ord_scale_pipe, ['condition']),\n",
    "    (StandardScaler(), make_column_selector(dtype_include=np.number)),\n",
    "    (PolynomialFeatures(degree = 2), make_column_selector(dtype_include=np.number)),\n",
    "    (OneHotEncoder(drop = 'if_binary', sparse_output=False), make_column_selector(dtype_include=object)),\n",
    "    remainder='passthrough'\n",
    ")\n",
    "\n",
    "## This does not combine the ordinal encoded 'condition' with the PolynomialFeatures!\n",
    "# Where to go from here? ...\n",
    "# 1. Transform the 'condition' column beforehand, outside the pipeline.\n",
    "# 2. Give up on serial transformation, and settle for one-hot encoded 'condition'.\n"
   ]
  },
  {
   "cell_type": "markdown",
   "metadata": {},
   "source": [
    "``` Python\n",
    "## Third attempt: Do it manually.\n",
    "#       One day more... Another day, another destiny.\n",
    "\n",
    "Data2 = df_clean[['year', 'manufacturer', 'condition', 'odometer', 'transmission', 'type', 'state', 'price']]\n",
    "\n",
    "#tmp = col_transform(Data2, transform_condition_ord)\n",
    "#tmp = col_transform(Data2, transform_scaler)\n",
    "#tmp = col_transform(tmp, transform_poly)\n",
    "# Unfortunately, the column names are chained together, e.g. \"remainder__remainder__remainder__manufacturer\" ...\n",
    "# Let's get around that by just doing the whole thing very, very manually.\n",
    "# I would love to know how to use column transformers for this common use case, but they disappoint miserably.\n",
    "\n",
    "Data2[['condition']] = OrdinalEncoder(categories = [['salvage', 'fair', 'good', 'excellent', 'like new', 'new']]).fit_transform(Data2[['condition']])\n",
    "\n",
    "numerical_predictors = ['year', 'odometer', 'condition']\n",
    "Data2[numerical_predictors] = StandardScaler().fit_transform(Data2[numerical_predictors])\n"
   ]
  },
  {
   "cell_type": "code",
   "execution_count": 32,
   "metadata": {},
   "outputs": [],
   "source": [
    "# The culmination of the above pain is the following two choices for dataset representations\n",
    "def build_dataset(df, id) -> tuple[pd.DataFrame, pd.Series]:\n",
    "    \"\"\" Returns (X, y) predictors and labels\"\"\"\n",
    "    \n",
    "    if id == 0:\n",
    "        # Numerical data only for proof of concept / baseline run. Low predictive value\n",
    "        cols = ['age', 'odometer', 'cylinders', 'log_price']\n",
    "        data = df[cols]\n",
    "        \n",
    "    if id == 1:\n",
    "        # The theory for Data Set 1 is brute force: capture the vehicle features primarily by model and age.\n",
    "        # This one ran into memory allocation issues during training, so it should probably be narrowed down\n",
    "        # to a specific manufacturer to limit the number of one-hot model features.\n",
    "        cols = ['age', 'odometer', 'model', 'condition', 'state', 'cylinders', 'log_price']\n",
    "        data = df[cols]\n",
    "\n",
    "    elif id == 2:\n",
    "        # The theory for Data Set 2 is generalized: capture features primarily by manufacturer and type\n",
    "        cols = ['age', 'odometer', 'cylinders', 'manufacturer', 'condition' 'transmission', 'type', 'state', 'log_price']\n",
    "        data = df[cols]\n",
    "        data[['condition']] = OrdinalEncoder(categories = [['salvage', 'fair', 'good', 'excellent', 'like new', 'new']]\n",
    "                                             ).fit_transform(data[['condition']])\n",
    "\n",
    "        numerical_predictors = ['age', 'odometer', 'cylinders', 'condition']\n",
    "        data[numerical_predictors] = StandardScaler().fit_transform(data[numerical_predictors])\n",
    "\n",
    "    elif id == 3:\n",
    "        # The theory for Data Set 3 is to use all numerical features and minimal one-hot features\n",
    "        cols = ['age', 'odometer', 'cylinders', 'manufacturer', 'condition', 'type', 'log_price']\n",
    "        data = df[cols]\n",
    "\n",
    "        numerical_predictors = ['age', 'odometer', 'cylinders']\n",
    "        data[numerical_predictors] = StandardScaler().fit_transform(data[numerical_predictors])\n",
    "\n",
    "    return data.drop(columns='log_price'), data.log_price\n"
   ]
  },
  {
   "cell_type": "markdown",
   "metadata": {},
   "source": [
    "### Modeling\n",
    "\n",
    "With your (almost?) final dataset in hand, it is now time to build some models.  Here, you should build a number of different regression models with the price as the target.  In building your models, you should explore different parameters and be sure to cross-validate your findings."
   ]
  },
  {
   "cell_type": "markdown",
   "metadata": {},
   "source": [
    "Grading criteria:\n",
    "* Use of multiple regression models\n",
    "* Cross-validation of models\n",
    "* Grid search hyperparameters\n",
    "* Appropriate interpretation of coefficients in models\n",
    "* Appropriate interpretation of evaluation metric\n",
    "* Clear identification of evaluation metric\n",
    "* Clear rationale for use of given evaluation metric"
   ]
  },
  {
   "cell_type": "code",
   "execution_count": 18,
   "metadata": {},
   "outputs": [],
   "source": [
    "# If 'model' is taken to include the training, then it includes source data. I would like to see the results of several training variations:\n",
    "# - Numeric only\n",
    "# - df_clean: sanitized full set\n",
    "# - df_sub1: sanitized full set, drop region\n",
    "# - sanitized, drop most things including 'model'. Primarily identify vehicle by 'manufacturer' and 'type'.\n",
    "# Let's see if I have time to do all that ...\n",
    "\n",
    "# Firstly, fit multiple model types on the same set, then see if I have time to run a model on a different representation of the data."
   ]
  },
  {
   "cell_type": "code",
   "execution_count": null,
   "metadata": {},
   "outputs": [],
   "source": [
    "def build_model(id):\n",
    "\n",
    "    transform_poly_ohe = make_column_transformer(\n",
    "        (PolynomialFeatures(degree=2, include_bias=False), make_column_selector(dtype_include=np.number)),\n",
    "        (OneHotEncoder(drop = 'if_binary', sparse_output=False), make_column_selector(dtype_include=object)),\n",
    "        remainder='passthrough'\n",
    "    )\n",
    "\n",
    "    model = None\n",
    "\n",
    "    if id == 0:\n",
    "        # Baseline/reference linear regression model\n",
    "        model = Pipeline([\n",
    "            ('x4m', transform_poly_ohe),\n",
    "            ('model', LinearRegression())\n",
    "        ])\n",
    "\n",
    "    elif id == 1:\n",
    "        # Sequential Feature Selector with Ridge regression\n",
    "\n",
    "        pipe = Pipeline([\n",
    "            ('x4m', transform_poly_ohe),\n",
    "            ('sfs', SequentialFeatureSelector(LinearRegression())),\n",
    "            ('model', Ridge())\n",
    "        ])\n",
    "\n",
    "        #param_dict = {'sfs__n_features_to_select': [5, 7, 9, 11], 'model__alpha': [0.1, 1, 10]}\n",
    "            # It doesn't make sense to grid search n_features, because more always scores better on the training set\n",
    "        param_dict = {'model__alpha': [0.1, 1, 10]}\n",
    "\n",
    "        model = GridSearchCV(pipe, param_dict, cv=2)    # This 78 minutes with cv=3, so let's pare it down further to 2\n",
    "\n",
    "    elif id == 2:\n",
    "        pass\n",
    "\n",
    "    return model"
   ]
  },
  {
   "cell_type": "markdown",
   "metadata": {},
   "source": [
    "#### Model 0: Reference\n",
    "Simple linear regression on numerical data. This is not expected to perform well, but to establish a baseline for better models to beat."
   ]
  },
  {
   "cell_type": "code",
   "execution_count": null,
   "metadata": {},
   "outputs": [
    {
     "name": "stdout",
     "output_type": "stream",
     "text": [
      "  MSE (train/test): 0.599, 0.599\n"
     ]
    }
   ],
   "source": [
    "# Model 0: Perform simple Linear Regression on one-hot and poly as a benchmark\n",
    "\n",
    "data_id = 0\n",
    "X, y = build_dataset(df_clean, data_id)\n",
    "\n",
    "X_train, X_test, y_train, y_test = train_test_split(X, y, test_size=0.33, random_state=24601)    # I'm Jean Val Jean\n",
    "\n",
    "model0 = build_model(0)\n",
    "\n",
    "train_rmse, test_rmse = model_fit_evaluate(model0, X_train, X_test, y_train, y_test, report=True)\n",
    "\n",
    "#  record_results('Simple reference', data_id, train_rmse, test_rmse)\n",
    "#  MSE (train/test): 12086123.8, 9793398.9      Data set 2, only float columns, before further data processing on 6/28 7pm\n",
    "#  MSE (train/test): 11004.3, 11008.5           Data set 2, all columns, in 2.4 s, before further data processing on 6/28 7pm\n",
    "#  For Data Set 1: MemoryError: Unable to allocate 37.5 GiB for an array with shape (272454, 18487) and data type float64\n",
    "#  MSE (train/test): 0.504, 0.503 Data set 2 after further data processing on 6/28 7pm\n",
    "#  MSE (train/test): 0.599, 0.599 Data set 0 (numerical only)"
   ]
  },
  {
   "cell_type": "markdown",
   "metadata": {},
   "source": []
  },
  {
   "cell_type": "code",
   "execution_count": null,
   "metadata": {},
   "outputs": [
    {
     "data": {
      "application/vnd.microsoft.datawrangler.viewer.v0+json": {
       "columns": [
        {
         "name": "index",
         "rawType": "int64",
         "type": "integer"
        },
        {
         "name": "feature",
         "rawType": "object",
         "type": "string"
        },
        {
         "name": "coef",
         "rawType": "float64",
         "type": "float"
        },
        {
         "name": "coef_mag",
         "rawType": "float64",
         "type": "float"
        }
       ],
       "ref": "9d5354ad-9887-4fa3-9831-b88517784bf7",
       "rows": [],
       "shape": {
        "columns": 3,
        "rows": 0
       }
      },
      "text/html": [
       "<div>\n",
       "<style scoped>\n",
       "    .dataframe tbody tr th:only-of-type {\n",
       "        vertical-align: middle;\n",
       "    }\n",
       "\n",
       "    .dataframe tbody tr th {\n",
       "        vertical-align: top;\n",
       "    }\n",
       "\n",
       "    .dataframe thead th {\n",
       "        text-align: right;\n",
       "    }\n",
       "</style>\n",
       "<table border=\"1\" class=\"dataframe\">\n",
       "  <thead>\n",
       "    <tr style=\"text-align: right;\">\n",
       "      <th></th>\n",
       "      <th>feature</th>\n",
       "      <th>coef</th>\n",
       "      <th>coef_mag</th>\n",
       "    </tr>\n",
       "  </thead>\n",
       "  <tbody>\n",
       "  </tbody>\n",
       "</table>\n",
       "</div>"
      ],
      "text/plain": [
       "Empty DataFrame\n",
       "Columns: [feature, coef, coef_mag]\n",
       "Index: []"
      ]
     },
     "execution_count": 81,
     "metadata": {},
     "output_type": "execute_result"
    }
   ],
   "source": [
    "coef = model0.named_steps['model'].coef_\n",
    "names = model0.named_steps['x4m'].get_feature_names_out()\n",
    "\n",
    "model0_weights = pd.DataFrame({'feature': names, 'coef': coef})\n",
    "model0_weights['coef_mag'] = model0_weights['coef'].abs()\n",
    "model0_weights.sort_values(by='coef_mag', ascending=False, inplace=True)\n",
    "\n",
    "# Observation: The one-hot encoded weights need to be viewed separately from the linear weights.\n",
    "\n",
    "onehot_features = model0_weights['feature'].str.contains('onehot')\n",
    "onehot_weights = model0_weights[onehot_features]\n",
    "scalar_weights = model0_weights[~onehot_features]   # Five weights > 250\n",
    "onehot_weights\n",
    "\n",
    "# Observation: The scalar weights look well-behaved, but the one-hot weights are practically infinite in magnitude!\n",
    "# Tentative Conclusion: The one-hot data behaves like outliers, and the L2 error of Linear Regression is thrown off\n",
    "# so much that the one-hot are unusable ???"
   ]
  },
  {
   "cell_type": "code",
   "execution_count": null,
   "metadata": {},
   "outputs": [],
   "source": []
  },
  {
   "cell_type": "markdown",
   "metadata": {
    "vscode": {
     "languageId": "markdown"
    }
   },
   "source": [
    "#### Model 1: Ridge regression with sequential feature selection and grid search.\n",
    "This model is trained on Data Set 2 (Cars identified by make)"
   ]
  },
  {
   "cell_type": "code",
   "execution_count": null,
   "metadata": {},
   "outputs": [],
   "source": [
    "# Model 1: Linear Regression with Sequential Feature Selection. Grid Search on number of selected features.\n",
    "# Data Set: Data2\n",
    "\n",
    "X, y = build_dataset(df_clean, 2)\n",
    "X_train, X_test, y_train, y_test = train_test_split(X, y, test_size=0.3, random_state=24601)\n",
    "\n",
    "col_transformer = make_column_transformer(\n",
    "    (PolynomialFeatures(degree=2, include_bias=False), make_column_selector(dtype_include=np.number)),\n",
    "    (OneHotEncoder(drop = 'if_binary', sparse_output=False), make_column_selector(dtype_include=object)),\n",
    "    remainder='passthrough'\n",
    ")\n",
    "\n",
    "m1_pipe = Pipeline([\n",
    "    ('x4m', col_transformer),\n",
    "    ('sfs', SequentialFeatureSelector(LinearRegression())),\n",
    "    ('model', Ridge())\n",
    "])\n",
    "\n",
    "param_dict = {'sfs__n_features_to_select': [5, 7, 9, 11], 'model__alpha': [0.1, 1, 10]}\n",
    "\n",
    "grid1 = GridSearchCV(m1_pipe, param_dict, cv=2).fit(X_train, y_train)\n",
    "# Outcomes:\n",
    "#   4m 14 s: features_to_select = [5] (only one), model = LinearRegression()\n",
    "#  75m 09 s: param_dict = {'sfs__n_features_to_select': [5, 7, 9, 11], 'model__alpha': [0.1, 1, 10]}\n",
    "             # Winner: features=9, alpha=10                    ^                                ^^"
   ]
  },
  {
   "cell_type": "code",
   "execution_count": 118,
   "metadata": {},
   "outputs": [
    {
     "name": "stdout",
     "output_type": "stream",
     "text": [
      "  MSE (train/test): 12090045.6, 9789929.2\n"
     ]
    }
   ],
   "source": [
    "train_rmse_1, test_rmse_1 = evaluate_model(grid1.best_estimator_, X_train, X_test, y_train, y_test, report=True)\n",
    "\n",
    "record_results('Model 1 best estimator', train_rmse_1, test_rmse_1)"
   ]
  },
  {
   "cell_type": "code",
   "execution_count": 110,
   "metadata": {},
   "outputs": [
    {
     "name": "stdout",
     "output_type": "stream",
     "text": [
      "Grid Search best estimator parameters: {'model__alpha': 10, 'sfs__n_features_to_select': 9}\n"
     ]
    }
   ],
   "source": [
    "print('Grid Search best estimator parameters: ' + str(grid1.best_params_))"
   ]
  },
  {
   "cell_type": "code",
   "execution_count": 61,
   "metadata": {},
   "outputs": [
    {
     "name": "stdout",
     "output_type": "stream",
     "text": [
      "  MSE (train/test): 12090045.6, 9789929.2\n"
     ]
    }
   ],
   "source": [
    "print(f'  MSE (train/test): {train_rmse_1:.1f}, {test_rmse_1 :.1f}')"
   ]
  },
  {
   "cell_type": "markdown",
   "metadata": {},
   "source": [
    "##### Explore Model 1 training result"
   ]
  },
  {
   "cell_type": "code",
   "execution_count": 115,
   "metadata": {},
   "outputs": [
    {
     "data": {
      "text/html": [
       "<style>#sk-container-id-3 {\n",
       "  /* Definition of color scheme common for light and dark mode */\n",
       "  --sklearn-color-text: black;\n",
       "  --sklearn-color-line: gray;\n",
       "  /* Definition of color scheme for unfitted estimators */\n",
       "  --sklearn-color-unfitted-level-0: #fff5e6;\n",
       "  --sklearn-color-unfitted-level-1: #f6e4d2;\n",
       "  --sklearn-color-unfitted-level-2: #ffe0b3;\n",
       "  --sklearn-color-unfitted-level-3: chocolate;\n",
       "  /* Definition of color scheme for fitted estimators */\n",
       "  --sklearn-color-fitted-level-0: #f0f8ff;\n",
       "  --sklearn-color-fitted-level-1: #d4ebff;\n",
       "  --sklearn-color-fitted-level-2: #b3dbfd;\n",
       "  --sklearn-color-fitted-level-3: cornflowerblue;\n",
       "\n",
       "  /* Specific color for light theme */\n",
       "  --sklearn-color-text-on-default-background: var(--sg-text-color, var(--theme-code-foreground, var(--jp-content-font-color1, black)));\n",
       "  --sklearn-color-background: var(--sg-background-color, var(--theme-background, var(--jp-layout-color0, white)));\n",
       "  --sklearn-color-border-box: var(--sg-text-color, var(--theme-code-foreground, var(--jp-content-font-color1, black)));\n",
       "  --sklearn-color-icon: #696969;\n",
       "\n",
       "  @media (prefers-color-scheme: dark) {\n",
       "    /* Redefinition of color scheme for dark theme */\n",
       "    --sklearn-color-text-on-default-background: var(--sg-text-color, var(--theme-code-foreground, var(--jp-content-font-color1, white)));\n",
       "    --sklearn-color-background: var(--sg-background-color, var(--theme-background, var(--jp-layout-color0, #111)));\n",
       "    --sklearn-color-border-box: var(--sg-text-color, var(--theme-code-foreground, var(--jp-content-font-color1, white)));\n",
       "    --sklearn-color-icon: #878787;\n",
       "  }\n",
       "}\n",
       "\n",
       "#sk-container-id-3 {\n",
       "  color: var(--sklearn-color-text);\n",
       "}\n",
       "\n",
       "#sk-container-id-3 pre {\n",
       "  padding: 0;\n",
       "}\n",
       "\n",
       "#sk-container-id-3 input.sk-hidden--visually {\n",
       "  border: 0;\n",
       "  clip: rect(1px 1px 1px 1px);\n",
       "  clip: rect(1px, 1px, 1px, 1px);\n",
       "  height: 1px;\n",
       "  margin: -1px;\n",
       "  overflow: hidden;\n",
       "  padding: 0;\n",
       "  position: absolute;\n",
       "  width: 1px;\n",
       "}\n",
       "\n",
       "#sk-container-id-3 div.sk-dashed-wrapped {\n",
       "  border: 1px dashed var(--sklearn-color-line);\n",
       "  margin: 0 0.4em 0.5em 0.4em;\n",
       "  box-sizing: border-box;\n",
       "  padding-bottom: 0.4em;\n",
       "  background-color: var(--sklearn-color-background);\n",
       "}\n",
       "\n",
       "#sk-container-id-3 div.sk-container {\n",
       "  /* jupyter's `normalize.less` sets `[hidden] { display: none; }`\n",
       "     but bootstrap.min.css set `[hidden] { display: none !important; }`\n",
       "     so we also need the `!important` here to be able to override the\n",
       "     default hidden behavior on the sphinx rendered scikit-learn.org.\n",
       "     See: https://github.com/scikit-learn/scikit-learn/issues/21755 */\n",
       "  display: inline-block !important;\n",
       "  position: relative;\n",
       "}\n",
       "\n",
       "#sk-container-id-3 div.sk-text-repr-fallback {\n",
       "  display: none;\n",
       "}\n",
       "\n",
       "div.sk-parallel-item,\n",
       "div.sk-serial,\n",
       "div.sk-item {\n",
       "  /* draw centered vertical line to link estimators */\n",
       "  background-image: linear-gradient(var(--sklearn-color-text-on-default-background), var(--sklearn-color-text-on-default-background));\n",
       "  background-size: 2px 100%;\n",
       "  background-repeat: no-repeat;\n",
       "  background-position: center center;\n",
       "}\n",
       "\n",
       "/* Parallel-specific style estimator block */\n",
       "\n",
       "#sk-container-id-3 div.sk-parallel-item::after {\n",
       "  content: \"\";\n",
       "  width: 100%;\n",
       "  border-bottom: 2px solid var(--sklearn-color-text-on-default-background);\n",
       "  flex-grow: 1;\n",
       "}\n",
       "\n",
       "#sk-container-id-3 div.sk-parallel {\n",
       "  display: flex;\n",
       "  align-items: stretch;\n",
       "  justify-content: center;\n",
       "  background-color: var(--sklearn-color-background);\n",
       "  position: relative;\n",
       "}\n",
       "\n",
       "#sk-container-id-3 div.sk-parallel-item {\n",
       "  display: flex;\n",
       "  flex-direction: column;\n",
       "}\n",
       "\n",
       "#sk-container-id-3 div.sk-parallel-item:first-child::after {\n",
       "  align-self: flex-end;\n",
       "  width: 50%;\n",
       "}\n",
       "\n",
       "#sk-container-id-3 div.sk-parallel-item:last-child::after {\n",
       "  align-self: flex-start;\n",
       "  width: 50%;\n",
       "}\n",
       "\n",
       "#sk-container-id-3 div.sk-parallel-item:only-child::after {\n",
       "  width: 0;\n",
       "}\n",
       "\n",
       "/* Serial-specific style estimator block */\n",
       "\n",
       "#sk-container-id-3 div.sk-serial {\n",
       "  display: flex;\n",
       "  flex-direction: column;\n",
       "  align-items: center;\n",
       "  background-color: var(--sklearn-color-background);\n",
       "  padding-right: 1em;\n",
       "  padding-left: 1em;\n",
       "}\n",
       "\n",
       "\n",
       "/* Toggleable style: style used for estimator/Pipeline/ColumnTransformer box that is\n",
       "clickable and can be expanded/collapsed.\n",
       "- Pipeline and ColumnTransformer use this feature and define the default style\n",
       "- Estimators will overwrite some part of the style using the `sk-estimator` class\n",
       "*/\n",
       "\n",
       "/* Pipeline and ColumnTransformer style (default) */\n",
       "\n",
       "#sk-container-id-3 div.sk-toggleable {\n",
       "  /* Default theme specific background. It is overwritten whether we have a\n",
       "  specific estimator or a Pipeline/ColumnTransformer */\n",
       "  background-color: var(--sklearn-color-background);\n",
       "}\n",
       "\n",
       "/* Toggleable label */\n",
       "#sk-container-id-3 label.sk-toggleable__label {\n",
       "  cursor: pointer;\n",
       "  display: block;\n",
       "  width: 100%;\n",
       "  margin-bottom: 0;\n",
       "  padding: 0.5em;\n",
       "  box-sizing: border-box;\n",
       "  text-align: center;\n",
       "}\n",
       "\n",
       "#sk-container-id-3 label.sk-toggleable__label-arrow:before {\n",
       "  /* Arrow on the left of the label */\n",
       "  content: \"▸\";\n",
       "  float: left;\n",
       "  margin-right: 0.25em;\n",
       "  color: var(--sklearn-color-icon);\n",
       "}\n",
       "\n",
       "#sk-container-id-3 label.sk-toggleable__label-arrow:hover:before {\n",
       "  color: var(--sklearn-color-text);\n",
       "}\n",
       "\n",
       "/* Toggleable content - dropdown */\n",
       "\n",
       "#sk-container-id-3 div.sk-toggleable__content {\n",
       "  max-height: 0;\n",
       "  max-width: 0;\n",
       "  overflow: hidden;\n",
       "  text-align: left;\n",
       "  /* unfitted */\n",
       "  background-color: var(--sklearn-color-unfitted-level-0);\n",
       "}\n",
       "\n",
       "#sk-container-id-3 div.sk-toggleable__content.fitted {\n",
       "  /* fitted */\n",
       "  background-color: var(--sklearn-color-fitted-level-0);\n",
       "}\n",
       "\n",
       "#sk-container-id-3 div.sk-toggleable__content pre {\n",
       "  margin: 0.2em;\n",
       "  border-radius: 0.25em;\n",
       "  color: var(--sklearn-color-text);\n",
       "  /* unfitted */\n",
       "  background-color: var(--sklearn-color-unfitted-level-0);\n",
       "}\n",
       "\n",
       "#sk-container-id-3 div.sk-toggleable__content.fitted pre {\n",
       "  /* unfitted */\n",
       "  background-color: var(--sklearn-color-fitted-level-0);\n",
       "}\n",
       "\n",
       "#sk-container-id-3 input.sk-toggleable__control:checked~div.sk-toggleable__content {\n",
       "  /* Expand drop-down */\n",
       "  max-height: 200px;\n",
       "  max-width: 100%;\n",
       "  overflow: auto;\n",
       "}\n",
       "\n",
       "#sk-container-id-3 input.sk-toggleable__control:checked~label.sk-toggleable__label-arrow:before {\n",
       "  content: \"▾\";\n",
       "}\n",
       "\n",
       "/* Pipeline/ColumnTransformer-specific style */\n",
       "\n",
       "#sk-container-id-3 div.sk-label input.sk-toggleable__control:checked~label.sk-toggleable__label {\n",
       "  color: var(--sklearn-color-text);\n",
       "  background-color: var(--sklearn-color-unfitted-level-2);\n",
       "}\n",
       "\n",
       "#sk-container-id-3 div.sk-label.fitted input.sk-toggleable__control:checked~label.sk-toggleable__label {\n",
       "  background-color: var(--sklearn-color-fitted-level-2);\n",
       "}\n",
       "\n",
       "/* Estimator-specific style */\n",
       "\n",
       "/* Colorize estimator box */\n",
       "#sk-container-id-3 div.sk-estimator input.sk-toggleable__control:checked~label.sk-toggleable__label {\n",
       "  /* unfitted */\n",
       "  background-color: var(--sklearn-color-unfitted-level-2);\n",
       "}\n",
       "\n",
       "#sk-container-id-3 div.sk-estimator.fitted input.sk-toggleable__control:checked~label.sk-toggleable__label {\n",
       "  /* fitted */\n",
       "  background-color: var(--sklearn-color-fitted-level-2);\n",
       "}\n",
       "\n",
       "#sk-container-id-3 div.sk-label label.sk-toggleable__label,\n",
       "#sk-container-id-3 div.sk-label label {\n",
       "  /* The background is the default theme color */\n",
       "  color: var(--sklearn-color-text-on-default-background);\n",
       "}\n",
       "\n",
       "/* On hover, darken the color of the background */\n",
       "#sk-container-id-3 div.sk-label:hover label.sk-toggleable__label {\n",
       "  color: var(--sklearn-color-text);\n",
       "  background-color: var(--sklearn-color-unfitted-level-2);\n",
       "}\n",
       "\n",
       "/* Label box, darken color on hover, fitted */\n",
       "#sk-container-id-3 div.sk-label.fitted:hover label.sk-toggleable__label.fitted {\n",
       "  color: var(--sklearn-color-text);\n",
       "  background-color: var(--sklearn-color-fitted-level-2);\n",
       "}\n",
       "\n",
       "/* Estimator label */\n",
       "\n",
       "#sk-container-id-3 div.sk-label label {\n",
       "  font-family: monospace;\n",
       "  font-weight: bold;\n",
       "  display: inline-block;\n",
       "  line-height: 1.2em;\n",
       "}\n",
       "\n",
       "#sk-container-id-3 div.sk-label-container {\n",
       "  text-align: center;\n",
       "}\n",
       "\n",
       "/* Estimator-specific */\n",
       "#sk-container-id-3 div.sk-estimator {\n",
       "  font-family: monospace;\n",
       "  border: 1px dotted var(--sklearn-color-border-box);\n",
       "  border-radius: 0.25em;\n",
       "  box-sizing: border-box;\n",
       "  margin-bottom: 0.5em;\n",
       "  /* unfitted */\n",
       "  background-color: var(--sklearn-color-unfitted-level-0);\n",
       "}\n",
       "\n",
       "#sk-container-id-3 div.sk-estimator.fitted {\n",
       "  /* fitted */\n",
       "  background-color: var(--sklearn-color-fitted-level-0);\n",
       "}\n",
       "\n",
       "/* on hover */\n",
       "#sk-container-id-3 div.sk-estimator:hover {\n",
       "  /* unfitted */\n",
       "  background-color: var(--sklearn-color-unfitted-level-2);\n",
       "}\n",
       "\n",
       "#sk-container-id-3 div.sk-estimator.fitted:hover {\n",
       "  /* fitted */\n",
       "  background-color: var(--sklearn-color-fitted-level-2);\n",
       "}\n",
       "\n",
       "/* Specification for estimator info (e.g. \"i\" and \"?\") */\n",
       "\n",
       "/* Common style for \"i\" and \"?\" */\n",
       "\n",
       ".sk-estimator-doc-link,\n",
       "a:link.sk-estimator-doc-link,\n",
       "a:visited.sk-estimator-doc-link {\n",
       "  float: right;\n",
       "  font-size: smaller;\n",
       "  line-height: 1em;\n",
       "  font-family: monospace;\n",
       "  background-color: var(--sklearn-color-background);\n",
       "  border-radius: 1em;\n",
       "  height: 1em;\n",
       "  width: 1em;\n",
       "  text-decoration: none !important;\n",
       "  margin-left: 1ex;\n",
       "  /* unfitted */\n",
       "  border: var(--sklearn-color-unfitted-level-1) 1pt solid;\n",
       "  color: var(--sklearn-color-unfitted-level-1);\n",
       "}\n",
       "\n",
       ".sk-estimator-doc-link.fitted,\n",
       "a:link.sk-estimator-doc-link.fitted,\n",
       "a:visited.sk-estimator-doc-link.fitted {\n",
       "  /* fitted */\n",
       "  border: var(--sklearn-color-fitted-level-1) 1pt solid;\n",
       "  color: var(--sklearn-color-fitted-level-1);\n",
       "}\n",
       "\n",
       "/* On hover */\n",
       "div.sk-estimator:hover .sk-estimator-doc-link:hover,\n",
       ".sk-estimator-doc-link:hover,\n",
       "div.sk-label-container:hover .sk-estimator-doc-link:hover,\n",
       ".sk-estimator-doc-link:hover {\n",
       "  /* unfitted */\n",
       "  background-color: var(--sklearn-color-unfitted-level-3);\n",
       "  color: var(--sklearn-color-background);\n",
       "  text-decoration: none;\n",
       "}\n",
       "\n",
       "div.sk-estimator.fitted:hover .sk-estimator-doc-link.fitted:hover,\n",
       ".sk-estimator-doc-link.fitted:hover,\n",
       "div.sk-label-container:hover .sk-estimator-doc-link.fitted:hover,\n",
       ".sk-estimator-doc-link.fitted:hover {\n",
       "  /* fitted */\n",
       "  background-color: var(--sklearn-color-fitted-level-3);\n",
       "  color: var(--sklearn-color-background);\n",
       "  text-decoration: none;\n",
       "}\n",
       "\n",
       "/* Span, style for the box shown on hovering the info icon */\n",
       ".sk-estimator-doc-link span {\n",
       "  display: none;\n",
       "  z-index: 9999;\n",
       "  position: relative;\n",
       "  font-weight: normal;\n",
       "  right: .2ex;\n",
       "  padding: .5ex;\n",
       "  margin: .5ex;\n",
       "  width: min-content;\n",
       "  min-width: 20ex;\n",
       "  max-width: 50ex;\n",
       "  color: var(--sklearn-color-text);\n",
       "  box-shadow: 2pt 2pt 4pt #999;\n",
       "  /* unfitted */\n",
       "  background: var(--sklearn-color-unfitted-level-0);\n",
       "  border: .5pt solid var(--sklearn-color-unfitted-level-3);\n",
       "}\n",
       "\n",
       ".sk-estimator-doc-link.fitted span {\n",
       "  /* fitted */\n",
       "  background: var(--sklearn-color-fitted-level-0);\n",
       "  border: var(--sklearn-color-fitted-level-3);\n",
       "}\n",
       "\n",
       ".sk-estimator-doc-link:hover span {\n",
       "  display: block;\n",
       "}\n",
       "\n",
       "/* \"?\"-specific style due to the `<a>` HTML tag */\n",
       "\n",
       "#sk-container-id-3 a.estimator_doc_link {\n",
       "  float: right;\n",
       "  font-size: 1rem;\n",
       "  line-height: 1em;\n",
       "  font-family: monospace;\n",
       "  background-color: var(--sklearn-color-background);\n",
       "  border-radius: 1rem;\n",
       "  height: 1rem;\n",
       "  width: 1rem;\n",
       "  text-decoration: none;\n",
       "  /* unfitted */\n",
       "  color: var(--sklearn-color-unfitted-level-1);\n",
       "  border: var(--sklearn-color-unfitted-level-1) 1pt solid;\n",
       "}\n",
       "\n",
       "#sk-container-id-3 a.estimator_doc_link.fitted {\n",
       "  /* fitted */\n",
       "  border: var(--sklearn-color-fitted-level-1) 1pt solid;\n",
       "  color: var(--sklearn-color-fitted-level-1);\n",
       "}\n",
       "\n",
       "/* On hover */\n",
       "#sk-container-id-3 a.estimator_doc_link:hover {\n",
       "  /* unfitted */\n",
       "  background-color: var(--sklearn-color-unfitted-level-3);\n",
       "  color: var(--sklearn-color-background);\n",
       "  text-decoration: none;\n",
       "}\n",
       "\n",
       "#sk-container-id-3 a.estimator_doc_link.fitted:hover {\n",
       "  /* fitted */\n",
       "  background-color: var(--sklearn-color-fitted-level-3);\n",
       "}\n",
       "</style><div id=\"sk-container-id-3\" class=\"sk-top-container\"><div class=\"sk-text-repr-fallback\"><pre>Pipeline(steps=[(&#x27;x4m&#x27;,\n",
       "                 ColumnTransformer(remainder=&#x27;passthrough&#x27;,\n",
       "                                   transformers=[(&#x27;polynomialfeatures&#x27;,\n",
       "                                                  PolynomialFeatures(include_bias=False),\n",
       "                                                  &lt;sklearn.compose._column_transformer.make_column_selector object at 0x00000193A02C6EA0&gt;),\n",
       "                                                 (&#x27;onehotencoder&#x27;,\n",
       "                                                  OneHotEncoder(drop=&#x27;if_binary&#x27;,\n",
       "                                                                sparse_output=False),\n",
       "                                                  &lt;sklearn.compose._column_transformer.make_column_selector object at 0x00000193A02B4C20&gt;)])),\n",
       "                (&#x27;sfs&#x27;,\n",
       "                 SequentialFeatureSelector(estimator=LinearRegression(),\n",
       "                                           n_features_to_select=9)),\n",
       "                (&#x27;model&#x27;, Ridge(alpha=10))])</pre><b>In a Jupyter environment, please rerun this cell to show the HTML representation or trust the notebook. <br />On GitHub, the HTML representation is unable to render, please try loading this page with nbviewer.org.</b></div><div class=\"sk-container\" hidden><div class=\"sk-item sk-dashed-wrapped\"><div class=\"sk-label-container\"><div class=\"sk-label fitted sk-toggleable\"><input class=\"sk-toggleable__control sk-hidden--visually\" id=\"sk-estimator-id-26\" type=\"checkbox\" ><label for=\"sk-estimator-id-26\" class=\"sk-toggleable__label fitted sk-toggleable__label-arrow fitted\">&nbsp;&nbsp;Pipeline<a class=\"sk-estimator-doc-link fitted\" rel=\"noreferrer\" target=\"_blank\" href=\"https://scikit-learn.org/1.5/modules/generated/sklearn.pipeline.Pipeline.html\">?<span>Documentation for Pipeline</span></a><span class=\"sk-estimator-doc-link fitted\">i<span>Fitted</span></span></label><div class=\"sk-toggleable__content fitted\"><pre>Pipeline(steps=[(&#x27;x4m&#x27;,\n",
       "                 ColumnTransformer(remainder=&#x27;passthrough&#x27;,\n",
       "                                   transformers=[(&#x27;polynomialfeatures&#x27;,\n",
       "                                                  PolynomialFeatures(include_bias=False),\n",
       "                                                  &lt;sklearn.compose._column_transformer.make_column_selector object at 0x00000193A02C6EA0&gt;),\n",
       "                                                 (&#x27;onehotencoder&#x27;,\n",
       "                                                  OneHotEncoder(drop=&#x27;if_binary&#x27;,\n",
       "                                                                sparse_output=False),\n",
       "                                                  &lt;sklearn.compose._column_transformer.make_column_selector object at 0x00000193A02B4C20&gt;)])),\n",
       "                (&#x27;sfs&#x27;,\n",
       "                 SequentialFeatureSelector(estimator=LinearRegression(),\n",
       "                                           n_features_to_select=9)),\n",
       "                (&#x27;model&#x27;, Ridge(alpha=10))])</pre></div> </div></div><div class=\"sk-serial\"><div class=\"sk-item sk-dashed-wrapped\"><div class=\"sk-label-container\"><div class=\"sk-label fitted sk-toggleable\"><input class=\"sk-toggleable__control sk-hidden--visually\" id=\"sk-estimator-id-27\" type=\"checkbox\" ><label for=\"sk-estimator-id-27\" class=\"sk-toggleable__label fitted sk-toggleable__label-arrow fitted\">&nbsp;x4m: ColumnTransformer<a class=\"sk-estimator-doc-link fitted\" rel=\"noreferrer\" target=\"_blank\" href=\"https://scikit-learn.org/1.5/modules/generated/sklearn.compose.ColumnTransformer.html\">?<span>Documentation for x4m: ColumnTransformer</span></a></label><div class=\"sk-toggleable__content fitted\"><pre>ColumnTransformer(remainder=&#x27;passthrough&#x27;,\n",
       "                  transformers=[(&#x27;polynomialfeatures&#x27;,\n",
       "                                 PolynomialFeatures(include_bias=False),\n",
       "                                 &lt;sklearn.compose._column_transformer.make_column_selector object at 0x00000193A02C6EA0&gt;),\n",
       "                                (&#x27;onehotencoder&#x27;,\n",
       "                                 OneHotEncoder(drop=&#x27;if_binary&#x27;,\n",
       "                                               sparse_output=False),\n",
       "                                 &lt;sklearn.compose._column_transformer.make_column_selector object at 0x00000193A02B4C20&gt;)])</pre></div> </div></div><div class=\"sk-parallel\"><div class=\"sk-parallel-item\"><div class=\"sk-item\"><div class=\"sk-label-container\"><div class=\"sk-label fitted sk-toggleable\"><input class=\"sk-toggleable__control sk-hidden--visually\" id=\"sk-estimator-id-28\" type=\"checkbox\" ><label for=\"sk-estimator-id-28\" class=\"sk-toggleable__label fitted sk-toggleable__label-arrow fitted\">polynomialfeatures</label><div class=\"sk-toggleable__content fitted\"><pre>&lt;sklearn.compose._column_transformer.make_column_selector object at 0x00000193A02C6EA0&gt;</pre></div> </div></div><div class=\"sk-serial\"><div class=\"sk-item\"><div class=\"sk-estimator fitted sk-toggleable\"><input class=\"sk-toggleable__control sk-hidden--visually\" id=\"sk-estimator-id-29\" type=\"checkbox\" ><label for=\"sk-estimator-id-29\" class=\"sk-toggleable__label fitted sk-toggleable__label-arrow fitted\">&nbsp;PolynomialFeatures<a class=\"sk-estimator-doc-link fitted\" rel=\"noreferrer\" target=\"_blank\" href=\"https://scikit-learn.org/1.5/modules/generated/sklearn.preprocessing.PolynomialFeatures.html\">?<span>Documentation for PolynomialFeatures</span></a></label><div class=\"sk-toggleable__content fitted\"><pre>PolynomialFeatures(include_bias=False)</pre></div> </div></div></div></div></div><div class=\"sk-parallel-item\"><div class=\"sk-item\"><div class=\"sk-label-container\"><div class=\"sk-label fitted sk-toggleable\"><input class=\"sk-toggleable__control sk-hidden--visually\" id=\"sk-estimator-id-30\" type=\"checkbox\" ><label for=\"sk-estimator-id-30\" class=\"sk-toggleable__label fitted sk-toggleable__label-arrow fitted\">onehotencoder</label><div class=\"sk-toggleable__content fitted\"><pre>&lt;sklearn.compose._column_transformer.make_column_selector object at 0x00000193A02B4C20&gt;</pre></div> </div></div><div class=\"sk-serial\"><div class=\"sk-item\"><div class=\"sk-estimator fitted sk-toggleable\"><input class=\"sk-toggleable__control sk-hidden--visually\" id=\"sk-estimator-id-31\" type=\"checkbox\" ><label for=\"sk-estimator-id-31\" class=\"sk-toggleable__label fitted sk-toggleable__label-arrow fitted\">&nbsp;OneHotEncoder<a class=\"sk-estimator-doc-link fitted\" rel=\"noreferrer\" target=\"_blank\" href=\"https://scikit-learn.org/1.5/modules/generated/sklearn.preprocessing.OneHotEncoder.html\">?<span>Documentation for OneHotEncoder</span></a></label><div class=\"sk-toggleable__content fitted\"><pre>OneHotEncoder(drop=&#x27;if_binary&#x27;, sparse_output=False)</pre></div> </div></div></div></div></div><div class=\"sk-parallel-item\"><div class=\"sk-item\"><div class=\"sk-label-container\"><div class=\"sk-label fitted sk-toggleable\"><input class=\"sk-toggleable__control sk-hidden--visually\" id=\"sk-estimator-id-32\" type=\"checkbox\" ><label for=\"sk-estimator-id-32\" class=\"sk-toggleable__label fitted sk-toggleable__label-arrow fitted\">remainder</label><div class=\"sk-toggleable__content fitted\"><pre>[]</pre></div> </div></div><div class=\"sk-serial\"><div class=\"sk-item\"><div class=\"sk-estimator fitted sk-toggleable\"><input class=\"sk-toggleable__control sk-hidden--visually\" id=\"sk-estimator-id-33\" type=\"checkbox\" ><label for=\"sk-estimator-id-33\" class=\"sk-toggleable__label fitted sk-toggleable__label-arrow fitted\">passthrough</label><div class=\"sk-toggleable__content fitted\"><pre>passthrough</pre></div> </div></div></div></div></div></div></div><div class=\"sk-item sk-dashed-wrapped\"><div class=\"sk-label-container\"><div class=\"sk-label fitted sk-toggleable\"><input class=\"sk-toggleable__control sk-hidden--visually\" id=\"sk-estimator-id-34\" type=\"checkbox\" ><label for=\"sk-estimator-id-34\" class=\"sk-toggleable__label fitted sk-toggleable__label-arrow fitted\">&nbsp;sfs: SequentialFeatureSelector<a class=\"sk-estimator-doc-link fitted\" rel=\"noreferrer\" target=\"_blank\" href=\"https://scikit-learn.org/1.5/modules/generated/sklearn.feature_selection.SequentialFeatureSelector.html\">?<span>Documentation for sfs: SequentialFeatureSelector</span></a></label><div class=\"sk-toggleable__content fitted\"><pre>SequentialFeatureSelector(estimator=LinearRegression(), n_features_to_select=9)</pre></div> </div></div><div class=\"sk-parallel\"><div class=\"sk-parallel-item\"><div class=\"sk-item\"><div class=\"sk-label-container\"><div class=\"sk-label fitted sk-toggleable\"><input class=\"sk-toggleable__control sk-hidden--visually\" id=\"sk-estimator-id-35\" type=\"checkbox\" ><label for=\"sk-estimator-id-35\" class=\"sk-toggleable__label fitted sk-toggleable__label-arrow fitted\">estimator: LinearRegression</label><div class=\"sk-toggleable__content fitted\"><pre>LinearRegression()</pre></div> </div></div><div class=\"sk-serial\"><div class=\"sk-item\"><div class=\"sk-estimator fitted sk-toggleable\"><input class=\"sk-toggleable__control sk-hidden--visually\" id=\"sk-estimator-id-36\" type=\"checkbox\" ><label for=\"sk-estimator-id-36\" class=\"sk-toggleable__label fitted sk-toggleable__label-arrow fitted\">&nbsp;LinearRegression<a class=\"sk-estimator-doc-link fitted\" rel=\"noreferrer\" target=\"_blank\" href=\"https://scikit-learn.org/1.5/modules/generated/sklearn.linear_model.LinearRegression.html\">?<span>Documentation for LinearRegression</span></a></label><div class=\"sk-toggleable__content fitted\"><pre>LinearRegression()</pre></div> </div></div></div></div></div></div></div><div class=\"sk-item\"><div class=\"sk-estimator fitted sk-toggleable\"><input class=\"sk-toggleable__control sk-hidden--visually\" id=\"sk-estimator-id-37\" type=\"checkbox\" ><label for=\"sk-estimator-id-37\" class=\"sk-toggleable__label fitted sk-toggleable__label-arrow fitted\">&nbsp;Ridge<a class=\"sk-estimator-doc-link fitted\" rel=\"noreferrer\" target=\"_blank\" href=\"https://scikit-learn.org/1.5/modules/generated/sklearn.linear_model.Ridge.html\">?<span>Documentation for Ridge</span></a></label><div class=\"sk-toggleable__content fitted\"><pre>Ridge(alpha=10)</pre></div> </div></div></div></div></div></div>"
      ],
      "text/plain": [
       "Pipeline(steps=[('x4m',\n",
       "                 ColumnTransformer(remainder='passthrough',\n",
       "                                   transformers=[('polynomialfeatures',\n",
       "                                                  PolynomialFeatures(include_bias=False),\n",
       "                                                  <sklearn.compose._column_transformer.make_column_selector object at 0x00000193A02C6EA0>),\n",
       "                                                 ('onehotencoder',\n",
       "                                                  OneHotEncoder(drop='if_binary',\n",
       "                                                                sparse_output=False),\n",
       "                                                  <sklearn.compose._column_transformer.make_column_selector object at 0x00000193A02B4C20>)])),\n",
       "                ('sfs',\n",
       "                 SequentialFeatureSelector(estimator=LinearRegression(),\n",
       "                                           n_features_to_select=9)),\n",
       "                ('model', Ridge(alpha=10))])"
      ]
     },
     "execution_count": 115,
     "metadata": {},
     "output_type": "execute_result"
    }
   ],
   "source": [
    "grid1.best_estimator_"
   ]
  },
  {
   "cell_type": "code",
   "execution_count": null,
   "metadata": {},
   "outputs": [
    {
     "data": {
      "text/plain": [
       "array([-2.46147479e+01, -3.84539218e+03, -4.06839356e+04,  3.01448715e+04,\n",
       "       -4.69818765e+04, -3.12800803e+04, -4.91593340e+04, -4.81956438e+04,\n",
       "       -4.78244737e+04])"
      ]
     },
     "execution_count": 124,
     "metadata": {},
     "output_type": "execute_result"
    }
   ],
   "source": [
    "est = grid1.best_estimator_.named_steps['model']\n",
    "est.coef_\n",
    "# These values are large because the price is in USD, not normalized."
   ]
  },
  {
   "cell_type": "code",
   "execution_count": 133,
   "metadata": {},
   "outputs": [
    {
     "data": {
      "text/plain": [
       "array(['x8', 'x11', 'x18', 'x20', 'x24', 'x31', 'x55', 'x60', 'x95'],\n",
       "      dtype=object)"
      ]
     },
     "execution_count": 133,
     "metadata": {},
     "output_type": "execute_result"
    }
   ],
   "source": [
    "sfs = grid1.best_estimator_.named_steps['sfs']\n",
    "sfs.get_feature_names_out()\n",
    "# These are not helpful. Need to map the 'x' numbers to inputs."
   ]
  },
  {
   "cell_type": "code",
   "execution_count": 141,
   "metadata": {},
   "outputs": [
    {
     "data": {
      "text/plain": [
       "array(['polynomialfeatures__year', 'polynomialfeatures__condition',\n",
       "       'polynomialfeatures__odometer', 'polynomialfeatures__year^2',\n",
       "       'polynomialfeatures__year condition',\n",
       "       'polynomialfeatures__year odometer',\n",
       "       'polynomialfeatures__condition^2',\n",
       "       'polynomialfeatures__condition odometer',\n",
       "       'polynomialfeatures__odometer^2',\n",
       "       'onehotencoder__manufacturer_acura',\n",
       "       'onehotencoder__manufacturer_alfa-romeo',\n",
       "       'onehotencoder__manufacturer_aston-martin',\n",
       "       'onehotencoder__manufacturer_audi',\n",
       "       'onehotencoder__manufacturer_bmw',\n",
       "       'onehotencoder__manufacturer_buick',\n",
       "       'onehotencoder__manufacturer_cadillac',\n",
       "       'onehotencoder__manufacturer_chevrolet',\n",
       "       'onehotencoder__manufacturer_chrysler',\n",
       "       'onehotencoder__manufacturer_datsun',\n",
       "       'onehotencoder__manufacturer_dodge',\n",
       "       'onehotencoder__manufacturer_ferrari',\n",
       "       'onehotencoder__manufacturer_fiat',\n",
       "       'onehotencoder__manufacturer_ford',\n",
       "       'onehotencoder__manufacturer_gmc',\n",
       "       'onehotencoder__manufacturer_harley-davidson',\n",
       "       'onehotencoder__manufacturer_honda',\n",
       "       'onehotencoder__manufacturer_hyundai',\n",
       "       'onehotencoder__manufacturer_infiniti',\n",
       "       'onehotencoder__manufacturer_jaguar',\n",
       "       'onehotencoder__manufacturer_jeep',\n",
       "       'onehotencoder__manufacturer_kia',\n",
       "       'onehotencoder__manufacturer_land rover',\n",
       "       'onehotencoder__manufacturer_lexus',\n",
       "       'onehotencoder__manufacturer_lincoln',\n",
       "       'onehotencoder__manufacturer_mazda',\n",
       "       'onehotencoder__manufacturer_mercedes-benz',\n",
       "       'onehotencoder__manufacturer_mercury',\n",
       "       'onehotencoder__manufacturer_mini',\n",
       "       'onehotencoder__manufacturer_mitsubishi',\n",
       "       'onehotencoder__manufacturer_nissan',\n",
       "       'onehotencoder__manufacturer_pontiac',\n",
       "       'onehotencoder__manufacturer_porsche',\n",
       "       'onehotencoder__manufacturer_ram',\n",
       "       'onehotencoder__manufacturer_rover',\n",
       "       'onehotencoder__manufacturer_saturn',\n",
       "       'onehotencoder__manufacturer_subaru',\n",
       "       'onehotencoder__manufacturer_tesla',\n",
       "       'onehotencoder__manufacturer_toyota',\n",
       "       'onehotencoder__manufacturer_volkswagen',\n",
       "       'onehotencoder__manufacturer_volvo',\n",
       "       'onehotencoder__transmission_automatic',\n",
       "       'onehotencoder__transmission_manual',\n",
       "       'onehotencoder__transmission_other', 'onehotencoder__type_NA',\n",
       "       'onehotencoder__type_SUV', 'onehotencoder__type_bus',\n",
       "       'onehotencoder__type_convertible', 'onehotencoder__type_coupe',\n",
       "       'onehotencoder__type_hatchback', 'onehotencoder__type_mini-van',\n",
       "       'onehotencoder__type_offroad', 'onehotencoder__type_other',\n",
       "       'onehotencoder__type_pickup', 'onehotencoder__type_sedan',\n",
       "       'onehotencoder__type_truck', 'onehotencoder__type_van',\n",
       "       'onehotencoder__type_wagon', 'onehotencoder__state_ak',\n",
       "       'onehotencoder__state_al', 'onehotencoder__state_ar',\n",
       "       'onehotencoder__state_az', 'onehotencoder__state_ca',\n",
       "       'onehotencoder__state_co', 'onehotencoder__state_ct',\n",
       "       'onehotencoder__state_dc', 'onehotencoder__state_de',\n",
       "       'onehotencoder__state_fl', 'onehotencoder__state_ga',\n",
       "       'onehotencoder__state_hi', 'onehotencoder__state_ia',\n",
       "       'onehotencoder__state_id', 'onehotencoder__state_il',\n",
       "       'onehotencoder__state_in', 'onehotencoder__state_ks',\n",
       "       'onehotencoder__state_ky', 'onehotencoder__state_la',\n",
       "       'onehotencoder__state_ma', 'onehotencoder__state_md',\n",
       "       'onehotencoder__state_me', 'onehotencoder__state_mi',\n",
       "       'onehotencoder__state_mn', 'onehotencoder__state_mo',\n",
       "       'onehotencoder__state_ms', 'onehotencoder__state_mt',\n",
       "       'onehotencoder__state_nc', 'onehotencoder__state_nd',\n",
       "       'onehotencoder__state_ne', 'onehotencoder__state_nh',\n",
       "       'onehotencoder__state_nj', 'onehotencoder__state_nm',\n",
       "       'onehotencoder__state_nv', 'onehotencoder__state_ny',\n",
       "       'onehotencoder__state_oh', 'onehotencoder__state_ok',\n",
       "       'onehotencoder__state_or', 'onehotencoder__state_pa',\n",
       "       'onehotencoder__state_ri', 'onehotencoder__state_sc',\n",
       "       'onehotencoder__state_sd', 'onehotencoder__state_tn',\n",
       "       'onehotencoder__state_tx', 'onehotencoder__state_ut',\n",
       "       'onehotencoder__state_va', 'onehotencoder__state_vt',\n",
       "       'onehotencoder__state_wa', 'onehotencoder__state_wi',\n",
       "       'onehotencoder__state_wv', 'onehotencoder__state_wy'], dtype=object)"
      ]
     },
     "execution_count": 141,
     "metadata": {},
     "output_type": "execute_result"
    }
   ],
   "source": [
    "x4m = grid1.best_estimator_.named_steps['x4m']\n",
    "x4m.get_feature_names_out()"
   ]
  },
  {
   "cell_type": "code",
   "execution_count": null,
   "metadata": {},
   "outputs": [],
   "source": [
    "# column transform with Poly(n)\n",
    "# Sequential feature selection\n",
    "# Ridge\n",
    "# GridSearch on ridge alpha {0.1, 1.0, 10} and Poly n {1, 2, 3}"
   ]
  },
  {
   "cell_type": "code",
   "execution_count": null,
   "metadata": {},
   "outputs": [],
   "source": [
    "# Model 2: TBD with Grid Search\n",
    "# Data Set: Data2"
   ]
  },
  {
   "cell_type": "code",
   "execution_count": null,
   "metadata": {},
   "outputs": [],
   "source": []
  },
  {
   "cell_type": "code",
   "execution_count": null,
   "metadata": {},
   "outputs": [],
   "source": []
  },
  {
   "cell_type": "markdown",
   "metadata": {},
   "source": [
    "### Evaluation\n",
    "\n",
    "With some modeling accomplished, we aim to reflect on what we identify as a high-quality model and what we are able to learn from this.  We should review our business objective and explore how well we can provide meaningful insight into drivers of used car prices.  Your goal now is to distill your findings and determine whether the earlier phases need revisitation and adjustment or if you have information of value to bring back to your client."
   ]
  },
  {
   "cell_type": "code",
   "execution_count": null,
   "metadata": {},
   "outputs": [],
   "source": []
  },
  {
   "cell_type": "code",
   "execution_count": null,
   "metadata": {},
   "outputs": [],
   "source": []
  },
  {
   "cell_type": "code",
   "execution_count": null,
   "metadata": {},
   "outputs": [],
   "source": []
  },
  {
   "cell_type": "code",
   "execution_count": null,
   "metadata": {},
   "outputs": [],
   "source": []
  },
  {
   "cell_type": "code",
   "execution_count": null,
   "metadata": {},
   "outputs": [],
   "source": []
  },
  {
   "cell_type": "code",
   "execution_count": null,
   "metadata": {},
   "outputs": [],
   "source": []
  },
  {
   "cell_type": "markdown",
   "metadata": {},
   "source": [
    "### Deployment\n",
    "\n",
    "Now that we've settled on our models and findings, it is time to deliver the information to the client.  You should organize your work as a basic report that details your primary findings.  Keep in mind that your audience is a group of used car dealers interested in fine-tuning their inventory."
   ]
  },
  {
   "cell_type": "code",
   "execution_count": null,
   "metadata": {},
   "outputs": [],
   "source": []
  },
  {
   "cell_type": "code",
   "execution_count": null,
   "metadata": {},
   "outputs": [],
   "source": []
  },
  {
   "cell_type": "code",
   "execution_count": null,
   "metadata": {},
   "outputs": [],
   "source": []
  },
  {
   "cell_type": "code",
   "execution_count": null,
   "metadata": {},
   "outputs": [],
   "source": []
  },
  {
   "cell_type": "code",
   "execution_count": null,
   "metadata": {},
   "outputs": [],
   "source": []
  },
  {
   "cell_type": "code",
   "execution_count": null,
   "metadata": {},
   "outputs": [],
   "source": []
  },
  {
   "cell_type": "code",
   "execution_count": null,
   "metadata": {},
   "outputs": [],
   "source": []
  },
  {
   "cell_type": "markdown",
   "metadata": {},
   "source": [
    "# Future Work\n",
    "\n",
    "Examine data for which the `size` was provided, and see how much variance it explains."
   ]
  },
  {
   "cell_type": "code",
   "execution_count": null,
   "metadata": {},
   "outputs": [],
   "source": []
  }
 ],
 "metadata": {
  "kernelspec": {
   "display_name": "base",
   "language": "python",
   "name": "python3"
  },
  "language_info": {
   "codemirror_mode": {
    "name": "ipython",
    "version": 3
   },
   "file_extension": ".py",
   "mimetype": "text/x-python",
   "name": "python",
   "nbconvert_exporter": "python",
   "pygments_lexer": "ipython3",
   "version": "3.12.7"
  },
  "widgets": {
   "application/vnd.jupyter.widget-state+json": {
    "state": {},
    "version_major": 2,
    "version_minor": 0
   }
  }
 },
 "nbformat": 4,
 "nbformat_minor": 4
}
